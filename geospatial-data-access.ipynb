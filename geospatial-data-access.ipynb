{
 "cells": [
  {
   "cell_type": "markdown",
   "metadata": {},
   "source": [
    "# Geospatial Data Access\n",
    "\n",
    "\n",
    "This notebook shows some of the different types of geospatial data can be accessed. "
   ]
  },
  {
   "cell_type": "markdown",
   "metadata": {},
   "source": [
    "## Shapefiles\n",
    "\n",
    "The pyshp library is a pure-Python library that can be used to read, write, and modify shapefiles. See https://github.com/GeospatialPython/pyshp for docs. \n"
   ]
  },
  {
   "cell_type": "code",
   "execution_count": 1,
   "metadata": {
    "collapsed": false
   },
   "outputs": [
    {
     "name": "stdout",
     "output_type": "stream",
     "text": [
      "[84, 10564.65777, 402.43493, 85.0, 55595.0, 'ROCK/ISLAND', 44100, '                                                                                ']\n"
     ]
    }
   ],
   "source": [
    "import shapefile\n",
    "# create a reader\n",
    "sf = shapefile.Reader(\"/home/user/data/north_carolina/shape/lakes.shp\")\n",
    "# get a list of records from the reader\n",
    "recs = sf.records()\n",
    "# print out the third record attributes\n",
    "print(recs[3])"
   ]
  },
  {
   "cell_type": "markdown",
   "metadata": {},
   "source": [
    "Alternatively the Fiona library can be used. This is a Python wrapper around GDAL - so a full GDAL installation is required. "
   ]
  },
  {
   "cell_type": "code",
   "execution_count": 3,
   "metadata": {
    "collapsed": false
   },
   "outputs": [
    {
     "name": "stdout",
     "output_type": "stream",
     "text": [
      "{'geometry': {'type': 'Polygon', 'coordinates': [[(635674.6570485146, 257334.50993138485, 0.0), (635667.4235204469, 257333.52786382104, 0.0), (635658.7339598676, 257334.7452374595, 0.0), (635649.6475488953, 257335.23291843155, 0.0), (635641.1000254003, 257336.7331470324, 0.0), (635636.1424434853, 257348.15585467947, 0.0), (635636.9431546864, 257356.68600454013, 0.0), (635639.4501397006, 257363.64490725525, 0.0), (635646.0249936505, 257365.0902717476, 0.0), (635650.7295910598, 257370.12710182226, 0.0), (635658.8077216162, 257367.57988312593, 0.0), (635663.2151384302, 257360.290271748, 0.0), (635667.43479807, 257352.24109724822, 0.0), (635674.2175260348, 257345.92928622416, 0.0), (635674.6570485146, 257334.50993138485, 0.0)]]}, 'type': 'Feature', 'id': '3', 'properties': OrderedDict([(u'cat', 84), (u'AREA', 10564.65777), (u'PERIMETER', 402.43493), (u'FULL_HYDRO', 85.0), (u'FULL_HYDR2', 55595.0), (u'FTYPE', u'ROCK/ISLAND'), (u'FCODE', 44100), (u'NAME', u'')])}\n"
     ]
    }
   ],
   "source": [
    "import fiona\n",
    "# open the shapefile and get the records list\n",
    "recs = fiona.open(\"/home/user/data/north_carolina/shape/lakes.shp\", \"r\")\n",
    "# print out the third record details\n",
    "print(recs[3])"
   ]
  },
  {
   "cell_type": "code",
   "execution_count": null,
   "metadata": {
    "collapsed": true
   },
   "outputs": [],
   "source": []
  }
 ],
 "metadata": {
  "kernelspec": {
   "display_name": "Python 2",
   "language": "python",
   "name": "python2"
  },
  "language_info": {
   "codemirror_mode": {
    "name": "ipython",
    "version": 2
   },
   "file_extension": ".py",
   "mimetype": "text/x-python",
   "name": "python",
   "nbconvert_exporter": "python",
   "pygments_lexer": "ipython2",
   "version": "2.7.12"
  }
 },
 "nbformat": 4,
 "nbformat_minor": 2
}
