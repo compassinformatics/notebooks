{
 "cells": [
  {
   "cell_type": "markdown",
   "metadata": {},
   "source": [
    "# Geospatial Data Access\n",
    "\n",
    "\n",
    "This notebook shows some of the different types of geospatial data can be accessed. "
   ]
  },
  {
   "cell_type": "markdown",
   "metadata": {},
   "source": [
    "## Shapefiles\n",
    "\n",
    "The pyshp library is a pure-Python library that can be used to read, write, and modify shapefiles. See https://github.com/GeospatialPython/pyshp for docs. \n"
   ]
  },
  {
   "cell_type": "code",
   "execution_count": null,
   "metadata": {},
   "outputs": [],
   "source": [
    "import shapefile\n",
    "# create a reader\n",
    "# data_path = \"/home/user/data/north_carolina/shape/lakes.shp\"  # on OSGeoLive\n",
    "data_path = \"data/lakes.shp\" # from GitHub\n",
    "sf = shapefile.Reader(data_path)\n",
    "# get a list of records from the reader\n",
    "recs = sf.records()\n",
    "# print out the third record attributes\n",
    "print(recs[3])"
   ]
  },
  {
   "cell_type": "markdown",
   "metadata": {},
   "source": [
    "Alternatively the Fiona library can be used. This is a Python wrapper around GDAL - so a full GDAL installation is required. "
   ]
  },
  {
   "cell_type": "code",
   "execution_count": null,
   "metadata": {},
   "outputs": [],
   "source": [
    "import fiona\n",
    "# open the shapefile and get the records list\n",
    "data_path = \"/home/user/data/north_carolina/shape/lakes.shp\"  # on OSGeoLive\n",
    "data_path = \"data/lakes.shp\" # from GitHub\n",
    "recs = fiona.open(data_path, \"r\")\n",
    "# print out the third record details\n",
    "print(recs[3])"
   ]
  },
  {
   "cell_type": "code",
   "execution_count": null,
   "metadata": {},
   "outputs": [],
   "source": []
  }
 ],
 "metadata": {
  "kernelspec": {
   "display_name": "Python 2",
   "language": "python",
   "name": "python2"
  },
  "language_info": {
   "codemirror_mode": {
    "name": "ipython",
    "version": 2
   },
   "file_extension": ".py",
   "mimetype": "text/x-python",
   "name": "python",
   "nbconvert_exporter": "python",
   "pygments_lexer": "ipython2",
   "version": "2.7.14"
  }
 },
 "nbformat": 4,
 "nbformat_minor": 2
}
